{
 "cells": [
  {
   "cell_type": "code",
   "execution_count": 17,
   "metadata": {},
   "outputs": [],
   "source": [
    "import numpy as np\n",
    "import seaborn as sns\n",
    "import pandas as pd\n",
    "import matplotlib.pyplot as plt\n",
    "\n",
    "from ipywidgets import widgets, interact"
   ]
  },
  {
   "cell_type": "code",
   "execution_count": 2,
   "metadata": {},
   "outputs": [],
   "source": [
    "def Planck(wavelength: np.ndarray, temperature: float, h: float = 6.62e-34, boltzmann: float = 1.38e-23, speed_of_light: float = 3e8) -> np.ndarray:\n",
    "    wavelength_five: np.ndarray = wavelength**5\n",
    "    exponent_component: np.ndarray = wavelength*temperature*boltzmann\n",
    "    exponent_minus_one: np.ndarray = np.exp(h*speed_of_light/exponent_component) - 1\n",
    "    return (8*np.pi*h*speed_of_light/wavelength_five) * (1/exponent_minus_one)"
   ]
  },
  {
   "cell_type": "code",
   "execution_count": 3,
   "metadata": {},
   "outputs": [],
   "source": [
    "def Wien(wavelength: np.ndarray, temperature: float, h: float = 6.62e-34, boltzmann: float = 1.38e-23, speed_of_light: float=3e8) -> np.ndarray:\n",
    "    wavelength_five: np.ndarray = wavelength**5\n",
    "    exponent_component: np.ndarray = wavelength*temperature*boltzmann\n",
    "    exponent_minus_one: np.ndarray = np.exp(h*speed_of_light/exponent_component)\n",
    "    return (8*np.pi*h*speed_of_light/wavelength_five) * (1/exponent_minus_one)"
   ]
  },
  {
   "cell_type": "code",
   "execution_count": 4,
   "metadata": {},
   "outputs": [],
   "source": [
    "def RayleighJeans(wavelength: np.ndarray, temperature: float, h: float=6.62e-34, boltzmann: float = 1.38e-23, speed_of_light: float = 3e8) -> np.ndarray:\n",
    "    wavelength_four: np.ndarray = wavelength**4\n",
    "    numerator: float = boltzmann*temperature\n",
    "    return 8*np.pi * numerator / wavelength_four"
   ]
  },
  {
   "cell_type": "code",
   "execution_count": 29,
   "metadata": {},
   "outputs": [
    {
     "data": {
      "application/vnd.jupyter.widget-view+json": {
       "model_id": "b6ea0e7117944df49537421ecde7f352",
       "version_major": 2,
       "version_minor": 0
      },
      "text/plain": [
       "interactive(children=(IntSlider(value=3000, description='suhu (K)', max=3500, min=2500, step=100), Output()), …"
      ]
     },
     "metadata": {},
     "output_type": "display_data"
    },
    {
     "data": {
      "text/plain": [
       "<function __main__.show(temperature: float = 3000)>"
      ]
     },
     "execution_count": 29,
     "metadata": {},
     "output_type": "execute_result"
    }
   ],
   "source": [
    "wavelength: np.ndarray = np.arange(0.000_000_2, 0.000_003_5, step=0.2e-7)\n",
    "temperature: float = 3_000\n",
    "\n",
    "slider = widgets.IntSlider(value=3_000, min=2_500, max=3_500, step=100, readout=True, description = 'suhu (K)')\n",
    "\n",
    "def show(temperature: float = 3_000):\n",
    "  plt.plot(wavelength, Planck(wavelength, temperature), label='Planck')\n",
    "  plt.plot(wavelength, Wien(wavelength, temperature), label='Wien')\n",
    "  plt.plot(wavelength, RayleighJeans(wavelength, temperature), label='Rayleigh--Jeans')\n",
    "\n",
    "\n",
    "  wavelength_random: np.ndarray = np.arange(0.000_000_2, 0.000_003_5, step=0.8e-7)\n",
    "\n",
    "  x_rand = Planck(wavelength_random, temperature) + np.random.default_rng(200).integers(low=-100, high=100)\n",
    "\n",
    "#   plt.scatter(wavelength_random, x_rand, label='data contoh', marker='+', color='red')\n",
    "\n",
    "  plt.ylim(0, 60_000)\n",
    "\n",
    "  plt.title('Perbandingan model Planck, Wien dan Rayleigh--Jeans')\n",
    "  plt.xlabel('panjang gelombang')\n",
    "  plt.ylabel('keamatan')\n",
    "  plt.legend()\n",
    "\n",
    "interact(show, temperature=slider)"
   ]
  }
 ],
 "metadata": {
  "kernelspec": {
   "display_name": "Python 3.8.10 ('.venv': poetry)",
   "language": "python",
   "name": "python3"
  },
  "language_info": {
   "codemirror_mode": {
    "name": "ipython",
    "version": 3
   },
   "file_extension": ".py",
   "mimetype": "text/x-python",
   "name": "python",
   "nbconvert_exporter": "python",
   "pygments_lexer": "ipython3",
   "version": "3.9.5"
  },
  "orig_nbformat": 4,
  "vscode": {
   "interpreter": {
    "hash": "0d0e571ec46eecc19df2e142ec12bc9ab790fd9af76789989b0668c2350db943"
   }
  }
 },
 "nbformat": 4,
 "nbformat_minor": 2
}
