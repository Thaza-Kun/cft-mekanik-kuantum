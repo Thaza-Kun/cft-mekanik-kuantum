{
 "cells": [
  {
   "cell_type": "code",
   "execution_count": null,
   "metadata": {},
   "outputs": [
    {
     "ename": "",
     "evalue": "",
     "output_type": "error",
     "traceback": [
      "\u001b[1;31mRunning cells with 'Python 3.9.5 ('base')' requires ipykernel package.\n",
      "\u001b[1;31mRun the following command to install 'ipykernel' into the Python environment. \n",
      "\u001b[1;31mCommand: 'conda install -n base ipykernel --update-deps --force-reinstall'"
     ]
    }
   ],
   "source": [
    "import matplotlib.pyplot as plt\n",
    "import numpy as np"
   ]
  },
  {
   "cell_type": "code",
   "execution_count": 2,
   "metadata": {},
   "outputs": [],
   "source": [
    "def formula(x):\n",
    "    return x*np.exp(x)/(np.exp(x) - 1) -5\n",
    "\n",
    "def formula2(x):\n",
    "    return (5-x)*np.exp(x) - 5"
   ]
  },
  {
   "cell_type": "code",
   "execution_count": 3,
   "metadata": {},
   "outputs": [],
   "source": [
    "Xs = np.linspace(0.1, 6)\n",
    "Ys = formula2(Xs)\n",
    "\n",
    "data = {\n",
    "    'x': Xs,\n",
    "    'y': Ys,\n",
    "    'z': formula(Xs)\n",
    "}"
   ]
  },
  {
   "cell_type": "code",
   "execution_count": 4,
   "metadata": {},
   "outputs": [
    {
     "data": {
      "text/plain": [
       "<matplotlib.lines.Line2D at 0x1f6fd7a6c10>"
      ]
     },
     "execution_count": 4,
     "metadata": {},
     "output_type": "execute_result"
    },
    {
     "data": {
      "image/png": "[encoded data removed]",
      "text/plain": [
       "<Figure size 500x500 with 1 Axes>"
      ]
     },
     "metadata": {},
     "output_type": "display_data"
    }
   ],
   "source": [
    "sns.relplot(data=data, x='x', y='y')\n",
    "plt.axhline(0, color='black', linewidth=0.9)"
   ]
  },
  {
   "cell_type": "code",
   "execution_count": 5,
   "metadata": {},
   "outputs": [],
   "source": [
    "def persilangan_pembahagi_dua(fungsi, kiri: float, kanan: float, ketepatan: float = 1.0e-6) -> float:\n",
    "    # !! `fungsi` ialah fungsi yang kita nak tahu puncanya (titik persilangan)\n",
    "    # [1] Pilih dua titik, `kiri` dan `kanan`.\n",
    "    jarak = abs(kanan-kiri)\n",
    "    \n",
    "    had: int = 100 # Untuk letak had berapa kali boleh ulang\n",
    "    ulangan: int = 1 # Untuk kira berapa kali dah ulang\n",
    "    while jarak > ketepatan:\n",
    "        # [2] Dapatkan titik `tengah`\n",
    "        tengah = (kiri+kanan)/2.\n",
    "        \n",
    "        # [3] Semak sama ada persilangan berlaku di julat pertama [`kiri`,`tengah`]\n",
    "        if (fungsi(kiri)*fungsi(tengah)) < 0:\n",
    "            # Jika ya, balik ke langkah (1) dengan nilai baharu kiri=kiri dan kanan=tengah\n",
    "            # Ulangan [1] Pilih dua titik, `kiri` dan `kanan`.\n",
    "            kiri = kiri\n",
    "            kanan = tengah\n",
    "        else:\n",
    "            # Jika tidak, balik ke langkah (1) dengan nilai baharu kiri=tengah dan kanan=kanan\n",
    "            # Ulangan [1] Pilih dua titik, `kiri` dan `kanan`.\n",
    "            kiri = tengah\n",
    "            kanan = kanan\n",
    "        # [4] Ulang langkah [1] - [3] sampai `jarak <= ketepatan`\n",
    "        jarak = abs(kanan-kiri)\n",
    "\n",
    "        # Kalau dah lebih had, kita keluar. Kita tak nak benda ni ulang sampai bila-bila tak berhenti.\n",
    "        ulangan += 1\n",
    "        if ulangan == had: \n",
    "            raise ValueError(f'Sudah {had} kali diulang tetapi masih tak jumpa jawapan.')\n",
    "        print(ulangan, tengah)\n",
    "    return tengah"
   ]
  },
  {
   "cell_type": "code",
   "execution_count": null,
   "metadata": {},
   "outputs": [],
   "source": [
    "persilangan_pembahagi_dua(formula, 4, 6)"
   ]
  }
 ],
 "metadata": {
  "kernelspec": {
   "display_name": "Python 3.9.5 ('base')",
   "language": "python",
   "name": "python3"
  },
  "language_info": {
   "codemirror_mode": {
    "name": "ipython",
    "version": 3
   },
   "file_extension": ".py",
   "mimetype": "text/x-python",
   "name": "python",
   "nbconvert_exporter": "python",
   "pygments_lexer": "ipython3",
   "version": "3.9.5"
  },
  "orig_nbformat": 4,
  "vscode": {
   "interpreter": {
    "hash": "8836dc3cb5d022b839c66561b07c94e2b96c073f18eae4c463d3a3bcf20aef43"
   }
  }
 },
 "nbformat": 4,
 "nbformat_minor": 2
}
